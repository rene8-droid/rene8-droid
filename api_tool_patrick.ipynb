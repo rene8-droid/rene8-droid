{
  "nbformat": 4,
  "nbformat_minor": 0,
  "metadata": {
    "colab": {
      "provenance": [],
      "authorship_tag": "ABX9TyNlYOpX1SYaJSzuTK6BKRWg",
      "include_colab_link": true
    },
    "kernelspec": {
      "name": "python3",
      "display_name": "Python 3"
    },
    "language_info": {
      "name": "python"
    }
  },
  "cells": [
    {
      "cell_type": "markdown",
      "metadata": {
        "id": "view-in-github",
        "colab_type": "text"
      },
      "source": [
        "<a href=\"https://colab.research.google.com/github/rene8-droid/rene8-droid/blob/main/api_tool_patrick.ipynb\" target=\"_parent\"><img src=\"https://colab.research.google.com/assets/colab-badge.svg\" alt=\"Open In Colab\"/></a>"
      ]
    },
    {
      "cell_type": "code",
      "execution_count": null,
      "metadata": {
        "id": "URdnyDalgcrA"
      },
      "outputs": [],
      "source": [
        "import requests\n",
        "import pandas as pd\n",
        "import json\n",
        "import csv\n",
        "import xlsxwriter"
      ]
    },
    {
      "cell_type": "code",
      "source": [
        "api_key = \"3D7M5-BVZY0-OEQ38-N1I63\"\n",
        "product_id = \"subdomainfinder\"\n",
        "\n",
        "url = input(\"Voer een URL in: \").lower()\n",
        "\n",
        "print(\"Kies een optie:\")\n",
        "print(\"1. Toon subdomeinen in console\")\n",
        "print(\"2. Exporteer subdomeinen naar Excel\")\n",
        "print(\"3. Exporteer subdomeinen naar CSV\")\n",
        "\n",
        "choice = input(\"Optie: \")"
      ],
      "metadata": {
        "id": "shqpYRSxiTnR"
      },
      "execution_count": null,
      "outputs": []
    },
    {
      "cell_type": "code",
      "source": [
        "endpoint_url = f\"https://api.c99.nl/{product_id}?key={api_key}&domain={url}&json\"\n",
        "response = requests.get(endpoint_url)\n",
        "product_data = json.loads(response.text)"
      ],
      "metadata": {
        "id": "gJJr3WdvksGj"
      },
      "execution_count": null,
      "outputs": []
    },
    {
      "cell_type": "code",
      "source": [
        "if response.status_code == 200:\n",
        "    subdomains = product_data['subdomains']\n",
        "\n",
        "    if choice == \"1\":\n",
        "        print(\"Subdomeinen\")\n",
        "        for subdomain in subdomains:\n",
        "            print(subdomain)\n",
        "    elif choice == \"2\":\n",
        "        # create pandas dataframe\n",
        "        df = pd.DataFrame(subdomains, columns=['Subdomains'])"
      ],
      "metadata": {
        "id": "OshtKVenlNU-"
      },
      "execution_count": null,
      "outputs": []
    },
    {
      "cell_type": "code",
      "source": [
        "        # Write DataFrame to Excel\n",
        "        writer = pd.ExcelWriter('subdomains.xlsx', engine='xlsxwriter')\n",
        "        df.to_excel(writer, sheet_name='Subdomeinen', index=False)\n",
        "        writer.save()\n",
        "\n",
        "        print(\"Data succesvol geexporteerd naar naar subdomains.xlsx!\")\n",
        "    \n",
        "    elif choice == \"3\":\n",
        "        # Write subdomains to CSV-file\n",
        "        with open('subdomains.csv', 'w') as file:\n",
        "            for subdomain in subdomains:\n",
        "                file.write(subdomain + \"\\n\")\n",
        "            \n",
        "        print('Data succesvol geexporteerd naar subdomains.csv!')\n",
        "    else:\n",
        "        print(\"Ongeldige optie!\")\n",
        "else:\n",
        "    print(f\"Fout bij API-aanroep: {response.status_code} {response.reason}\")\n",
        "\n"
      ],
      "metadata": {
        "colab": {
          "base_uri": "https://localhost:8080/",
          "height": 132
        },
        "id": "HvGeUjMCmamV",
        "outputId": "5394798a-5502-4263-d75b-903fb934d7fc"
      },
      "execution_count": 17,
      "outputs": [
        {
          "output_type": "error",
          "ename": "IndentationError",
          "evalue": "ignored",
          "traceback": [
            "\u001b[0;36m  File \u001b[0;32m\"<ipython-input-17-6e2d6106c3cc>\"\u001b[0;36m, line \u001b[0;32m8\u001b[0m\n\u001b[0;31m    elif choice == \"3\":\u001b[0m\n\u001b[0m    ^\u001b[0m\n\u001b[0;31mIndentationError\u001b[0m\u001b[0;31m:\u001b[0m unexpected indent\n"
          ]
        }
      ]
    }
  ]
}